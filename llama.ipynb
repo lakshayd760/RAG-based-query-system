{
 "cells": [
  {
   "cell_type": "code",
   "execution_count": 1,
   "metadata": {},
   "outputs": [
    {
     "name": "stderr",
     "output_type": "stream",
     "text": [
      "USER_AGENT environment variable not set, consider setting it to identify your requests.\n"
     ]
    }
   ],
   "source": [
    "import os\n",
    "from langchain_community.document_loaders import WebBaseLoader\n",
    "from langchain_community.vectorstores import Chroma\n",
    "from langchain_community.embeddings.ollama import OllamaEmbeddings\n",
    "from langchain_community.chat_models import ChatOllama\n",
    "from langchain_core.runnables import RunnablePassthrough\n",
    "from langchain_core.output_parsers import StrOutputParser\n",
    "from langchain_core.prompts import ChatPromptTemplate\n",
    "from langchain.text_splitter import CharacterTextSplitter\n",
    "os.environ['USER_AGENT'] = 'Mozilla/5.0 (Windows NT 10.0; Win64; x64) AppleWebKit/537.36 (KHTML, like Gecko) Chrome/58.0.3029.110 Safari/537.3'\n",
    "\n",
    "embedding_model=OllamaEmbeddings(model='nomic-embed-text')"
   ]
  },
  {
   "cell_type": "code",
   "execution_count": 2,
   "metadata": {},
   "outputs": [],
   "source": [
    "urls = [\"https://www.tcs.com/\"]\n",
    "# \"https://ollama.com/\","
   ]
  },
  {
   "cell_type": "code",
   "execution_count": 3,
   "metadata": {},
   "outputs": [],
   "source": [
    "def load_data(urls, model):\n",
    "    model = ChatOllama(model = model)\n",
    "    docs = [WebBaseLoader(url).load() for url in urls]\n",
    "    docs_list = [items for sublist in docs for items in sublist]\n",
    "    text_splitter = CharacterTextSplitter.from_tiktoken_encoder(chunk_size = 1000, chunk_overlap = 10)\n",
    "    doc_split = text_splitter.split_documents(docs_list)  \n",
    "    return doc_split"
   ]
  },
  {
   "cell_type": "code",
   "execution_count": 4,
   "metadata": {},
   "outputs": [],
   "source": [
    "# print(len(doc_split))\n",
    "\n",
    "# print(embedding_model.embed_query(\"how are you doing today?\"))\n"
   ]
  },
  {
   "cell_type": "code",
   "execution_count": 4,
   "metadata": {},
   "outputs": [],
   "source": [
    "from langchain.vectorstores import FAISS\n",
    "def vector_db(doc_split):    \n",
    "    # doc_embeddings = embedding_model.embed_documents([doc.page_content for doc in doc_split])\n",
    "    faiss_index = FAISS.from_documents(doc_split, embedding_model)\n",
    "    retriever = faiss_index.as_retriever()\n",
    "    return retriever"
   ]
  },
  {
   "cell_type": "code",
   "execution_count": 5,
   "metadata": {},
   "outputs": [],
   "source": [
    "model_name = \"llama3\"\n",
    "model = ChatOllama(model=model_name)\n",
    "doc_split = load_data(urls, model_name)\n",
    "retriever = vector_db(doc_split)"
   ]
  },
  {
   "cell_type": "code",
   "execution_count": 9,
   "metadata": {},
   "outputs": [
    {
     "name": "stdout",
     "output_type": "stream",
     "text": [
      "TCS can refer to several things, depending on the context:\n",
      "\n",
      "1. **Tata Consultancy Services**: TCS is an Indian multinational information technology consulting company that provides a range of services including IT consulting, software development, and business process outsourcing.\n",
      "2. **Transaction Control Statement** (TCS): In accounting and finance, a TCS is a document or statement that details the transactions involved in a specific financial transaction, such as a merger or acquisition.\n",
      "3. **Time-Critical Systems**: TCS can also refer to systems or networks that require real-time processing and response times, often used in applications such as trading platforms, medical devices, or control systems.\n",
      "4. **Tropical Cyclone Scale** (TCS): In meteorology, the Tropical Cyclone Scale is a classification system for tropical cyclones (hurricanes, typhoons, etc.) based on their wind speed and potential damage.\n",
      "\n",
      "Without more context, it's difficult to determine which definition is most relevant. If you have any additional information or clarification about TCS, I'd be happy to try and provide a more specific answer!\n"
     ]
    }
   ],
   "source": [
    "before_rag = \"what is {topic}\"\n",
    "before_rag_prompt = ChatPromptTemplate.from_template(before_rag)\n",
    "before_rag_chain = before_rag_prompt | model | StrOutputParser()\n",
    "print(before_rag_chain.invoke({\"topic\": \"TCS\"}))"
   ]
  },
  {
   "cell_type": "code",
   "execution_count": 6,
   "metadata": {},
   "outputs": [
    {
     "name": "stdout",
     "output_type": "stream",
     "text": [
      "Based on the provided document metadata and content, here are some key points about Tata Consultancy Services (TCS):\n",
      "\n",
      "1. **Source**: The source of this information is https://www.tcs.com/.\n",
      "2. **Title**: The title of the website is \"T TwinX™\\n\\nTCS MasterCraft™\\n\\nJile™\\n\\nResearch & Innovation\\n\\n\\nexpand here\\n\\n\\nTCS Research\\n\\nTCS Pace™\\n\\nOverviewPress tab for submenu items\"\n",
      "3. **Description**: The description of TCS is: \"TCS, a global leader in IT services, consulting, and business solutions, leverages technology for business transformation and helps catalyze change.\"\n",
      "4. **Language**: The language used on the website is English (en).\n",
      "5. **Content**: The content on the website includes:\n",
      "\t* News alerts\n",
      "\t* Recent news articles (e.g., \"Follett Higher Education Selects TCS to Build a Future-Ready, Cloud-Based IT Infrastructure\")\n",
      "\t* Analyst recognition (e.g., \"TCS Positioned as a Leader in Healthcare Payer Digital Services by Everest Group\")\n",
      "\t* Media kit and overview\n",
      "\t* Management commentary and quarterly earnings reports\n",
      "\t* ESG (Environment, Social, and Governance) information\n",
      "\t* Investor resources and FAQs\n",
      "\n",
      "Overall, TCS is a global IT services company that leverages technology to drive business transformation and change.\n"
     ]
    }
   ],
   "source": [
    "after_rag_template = \"\"\"{context}\n",
    "Question: {question}\"\"\"\n",
    "after_rag_prompt = ChatPromptTemplate.from_template(after_rag_template)\n",
    "after_rag_chain = ({\"context\": retriever, \"question\":RunnablePassthrough()} | after_rag_prompt | model|StrOutputParser())\n",
    "print(after_rag_chain.invoke(\"TCS\"))"
   ]
  },
  {
   "cell_type": "code",
   "execution_count": null,
   "metadata": {},
   "outputs": [],
   "source": []
  }
 ],
 "metadata": {
  "kernelspec": {
   "display_name": "chatbot",
   "language": "python",
   "name": "python3"
  },
  "language_info": {
   "codemirror_mode": {
    "name": "ipython",
    "version": 3
   },
   "file_extension": ".py",
   "mimetype": "text/x-python",
   "name": "python",
   "nbconvert_exporter": "python",
   "pygments_lexer": "ipython3",
   "version": "3.10.7"
  }
 },
 "nbformat": 4,
 "nbformat_minor": 2
}
